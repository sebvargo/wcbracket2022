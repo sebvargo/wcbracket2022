{
 "cells": [
  {
   "cell_type": "code",
   "execution_count": 1,
   "metadata": {},
   "outputs": [],
   "source": [
    "from app import db\n",
    "from app.models import *"
   ]
  },
  {
   "cell_type": "code",
   "execution_count": 2,
   "metadata": {},
   "outputs": [],
   "source": [
    "u = User(username = 'seb', email = 's@email.com')"
   ]
  },
  {
   "cell_type": "code",
   "execution_count": 3,
   "metadata": {},
   "outputs": [
    {
     "data": {
      "text/plain": [
       "<Game 64 Prediction: BRA 0 - 1 POR, BRA wins>"
      ]
     },
     "execution_count": 3,
     "metadata": {},
     "output_type": "execute_result"
    }
   ],
   "source": [
    "p = Prediction(\n",
    "    game_id = 64,\n",
    "    team1 = 'BRA',\n",
    "    team2 = 'POR',\n",
    "    goals1 = 0,\n",
    "    goals2 = 1,\n",
    "    winner = 'BRA',\n",
    "    user_id = 1928\n",
    ")\n",
    "p"
   ]
  },
  {
   "cell_type": "code",
   "execution_count": 5,
   "metadata": {},
   "outputs": [
    {
     "data": {
      "text/plain": [
       "<group stage game on 11/28/2022 19:00 | None: ECU v. QAT>"
      ]
     },
     "execution_count": 5,
     "metadata": {},
     "output_type": "execute_result"
    }
   ],
   "source": [
    "g = Game(\n",
    "    utc_time= '11/28/2022 19:00',\n",
    "    team1 = 'ECU',\n",
    "    team2 = 'QAT',\n",
    "    group = 'A',\n",
    "    location = 'Lusail',\n",
    "    stage = 'group',\n",
    "    cell1 = 'W15',\n",
    "    cell2 = 'V15',\n",
    ")\n",
    "g"
   ]
  },
  {
   "cell_type": "code",
   "execution_count": 6,
   "metadata": {},
   "outputs": [
    {
     "ename": "RuntimeError",
     "evalue": "Working outside of application context.\n\nThis typically means that you attempted to use functionality that needed\nthe current application. To solve this, set up an application context\nwith app.app_context(). See the documentation for more information.",
     "output_type": "error",
     "traceback": [
      "\u001b[0;31m---------------------------------------------------------------------------\u001b[0m",
      "\u001b[0;31mRuntimeError\u001b[0m                              Traceback (most recent call last)",
      "Cell \u001b[0;32mIn [6], line 1\u001b[0m\n\u001b[0;32m----> 1\u001b[0m db\u001b[39m.\u001b[39;49msession\u001b[39m.\u001b[39;49madd(u)\n\u001b[1;32m      2\u001b[0m db\u001b[39m.\u001b[39msession\u001b[39m.\u001b[39mcommit()\n",
      "File \u001b[0;32m<string>:2\u001b[0m, in \u001b[0;36madd\u001b[0;34m(self, instance, _warn)\u001b[0m\n",
      "File \u001b[0;32m~/.local/share/virtualenvs/quiniela-LeuR-7Fo/lib/python3.9/site-packages/sqlalchemy/orm/scoping.py:24\u001b[0m, in \u001b[0;36mScopedSessionMixin._proxied\u001b[0;34m(self)\u001b[0m\n\u001b[1;32m     22\u001b[0m \u001b[39m@property\u001b[39m\n\u001b[1;32m     23\u001b[0m \u001b[39mdef\u001b[39;00m \u001b[39m_proxied\u001b[39m(\u001b[39mself\u001b[39m):\n\u001b[0;32m---> 24\u001b[0m     \u001b[39mreturn\u001b[39;00m \u001b[39mself\u001b[39;49m\u001b[39m.\u001b[39;49mregistry()\n",
      "File \u001b[0;32m~/.local/share/virtualenvs/quiniela-LeuR-7Fo/lib/python3.9/site-packages/sqlalchemy/util/_collections.py:1006\u001b[0m, in \u001b[0;36mScopedRegistry.__call__\u001b[0;34m(self)\u001b[0m\n\u001b[1;32m   1005\u001b[0m \u001b[39mdef\u001b[39;00m \u001b[39m__call__\u001b[39m(\u001b[39mself\u001b[39m):\n\u001b[0;32m-> 1006\u001b[0m     key \u001b[39m=\u001b[39m \u001b[39mself\u001b[39;49m\u001b[39m.\u001b[39;49mscopefunc()\n\u001b[1;32m   1007\u001b[0m     \u001b[39mtry\u001b[39;00m:\n\u001b[1;32m   1008\u001b[0m         \u001b[39mreturn\u001b[39;00m \u001b[39mself\u001b[39m\u001b[39m.\u001b[39mregistry[key]\n",
      "File \u001b[0;32m~/.local/share/virtualenvs/quiniela-LeuR-7Fo/lib/python3.9/site-packages/flask_sqlalchemy/session.py:81\u001b[0m, in \u001b[0;36m_app_ctx_id\u001b[0;34m()\u001b[0m\n\u001b[1;32m     79\u001b[0m \u001b[39mdef\u001b[39;00m \u001b[39m_app_ctx_id\u001b[39m() \u001b[39m-\u001b[39m\u001b[39m>\u001b[39m \u001b[39mint\u001b[39m:\n\u001b[1;32m     80\u001b[0m     \u001b[39m\"\"\"Get the id of the current Flask application context for the session scope.\"\"\"\u001b[39;00m\n\u001b[0;32m---> 81\u001b[0m     \u001b[39mreturn\u001b[39;00m \u001b[39mid\u001b[39m(app_ctx\u001b[39m.\u001b[39;49m_get_current_object())\n",
      "File \u001b[0;32m~/.local/share/virtualenvs/quiniela-LeuR-7Fo/lib/python3.9/site-packages/werkzeug/local.py:513\u001b[0m, in \u001b[0;36mLocalProxy.__init__.<locals>._get_current_object\u001b[0;34m()\u001b[0m\n\u001b[1;32m    511\u001b[0m     obj \u001b[39m=\u001b[39m local\u001b[39m.\u001b[39mget()  \u001b[39m# type: ignore[union-attr]\u001b[39;00m\n\u001b[1;32m    512\u001b[0m \u001b[39mexcept\u001b[39;00m \u001b[39mLookupError\u001b[39;00m:\n\u001b[0;32m--> 513\u001b[0m     \u001b[39mraise\u001b[39;00m \u001b[39mRuntimeError\u001b[39;00m(unbound_message) \u001b[39mfrom\u001b[39;00m \u001b[39mNone\u001b[39m\n\u001b[1;32m    515\u001b[0m \u001b[39mreturn\u001b[39;00m get_name(obj)\n",
      "\u001b[0;31mRuntimeError\u001b[0m: Working outside of application context.\n\nThis typically means that you attempted to use functionality that needed\nthe current application. To solve this, set up an application context\nwith app.app_context(). See the documentation for more information."
     ]
    }
   ],
   "source": [
    "db.session.add(u)\n",
    "db.session.commit()\n"
   ]
  },
  {
   "cell_type": "code",
   "execution_count": null,
   "metadata": {},
   "outputs": [],
   "source": []
  }
 ],
 "metadata": {
  "kernelspec": {
   "display_name": "Python 3.9.10 ('quiniela-LeuR-7Fo')",
   "language": "python",
   "name": "python3"
  },
  "language_info": {
   "codemirror_mode": {
    "name": "ipython",
    "version": 3
   },
   "file_extension": ".py",
   "mimetype": "text/x-python",
   "name": "python",
   "nbconvert_exporter": "python",
   "pygments_lexer": "ipython3",
   "version": "3.9.10"
  },
  "orig_nbformat": 4,
  "vscode": {
   "interpreter": {
    "hash": "db51ccc35aa27cbbff0cc517a7442460fac7dc75ec04cd5e1cc5122219f442ba"
   }
  }
 },
 "nbformat": 4,
 "nbformat_minor": 2
}
