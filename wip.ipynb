{
 "cells": [
  {
   "cell_type": "code",
   "execution_count": null,
   "metadata": {},
   "outputs": [],
   "source": [
    "from app import db\n",
    "from app.models import *\n",
    "import pandas as pd "
   ]
  },
  {
   "cell_type": "code",
   "execution_count": null,
   "metadata": {},
   "outputs": [],
   "source": [
    "u = User(username = 'seb', email = 's@email.com')\n"
   ]
  },
  {
   "cell_type": "code",
   "execution_count": null,
   "metadata": {},
   "outputs": [],
   "source": [
    "p = Prediction(\n",
    "    game_id = 64,\n",
    "    team1 = 'BRA',\n",
    "    team2 = 'POR',\n",
    "    goals1 = 0,\n",
    "    goals2 = 1,\n",
    "    winner = 'BRA',\n",
    "    user_id = 1928\n",
    ")\n",
    "p"
   ]
  },
  {
   "cell_type": "code",
   "execution_count": null,
   "metadata": {},
   "outputs": [],
   "source": [
    "g = Game(\n",
    "    utc_time= '11/28/2022 19:00',\n",
    "    team1 = 'ECU',\n",
    "    team2 = 'QAT',\n",
    "    group = 'A',\n",
    "    location = 'Lusail',\n",
    "    stage = 'group',\n",
    "    cell1 = 'W15',\n",
    "    cell2 = 'V15',\n",
    ")\n",
    "g"
   ]
  },
  {
   "cell_type": "code",
   "execution_count": null,
   "metadata": {},
   "outputs": [],
   "source": [
    "db.session.add(u)\n",
    "db.session.commit()\n"
   ]
  },
  {
   "cell_type": "markdown",
   "metadata": {},
   "source": [
    "# Chapter 5"
   ]
  },
  {
   "cell_type": "code",
   "execution_count": null,
   "metadata": {},
   "outputs": [],
   "source": [
    "from werkzeug.security import generate_password_hash, check_password_hash\n",
    "hash = generate_password_hash('foobar')\n",
    "check_password_hash(hash,'foobar')"
   ]
  },
  {
   "cell_type": "code",
   "execution_count": null,
   "metadata": {},
   "outputs": [],
   "source": [
    "from app.models import *\n",
    "# u = User(username='susan', email='susan@example.com')\n",
    "u.set_password('pswd')\n",
    "u.check_password('pswd')"
   ]
  },
  {
   "cell_type": "markdown",
   "metadata": {},
   "source": [
    "# File Upload"
   ]
  },
  {
   "cell_type": "code",
   "execution_count": 1,
   "metadata": {},
   "outputs": [],
   "source": [
    "from app import db\n",
    "from app.models import *\n",
    "from sqlalchemy.exc import PendingRollbackError\n",
    "import pandas as pd \n",
    "filename = 'Quiniela Prueba Seb.xlsx'\n",
    "cols = ['match_id', 'team1', 'team2', 'team1_prediction', 'team2_prediction', 'stage']\n",
    "df = pd.read_excel(filename,sheet_name='Resumen', usecols = cols)\n",
    "df = df.loc[df['stage'] == 'group']"
   ]
  },
  {
   "cell_type": "code",
   "execution_count": 28,
   "metadata": {},
   "outputs": [
    {
     "name": "stdout",
     "output_type": "stream",
     "text": [
      "Added predictions successfully.\n"
     ]
    }
   ],
   "source": [
    "u = User.query.filter_by(username = 'meme').first()\n",
    "\n",
    "if Prediction.query.filter_by(user_id = u.user_id, stage = 'group').first() is not None:\n",
    "    Prediction.query.filter_by(user_id = u.user_id, stage = 'group').delete()\n",
    "    \n",
    "for match_id, team1, team2, goals1, goals2, stage in zip(df['match_id'], df['team1'], df['team2'], df['team1_prediction'], df['team2_prediction'], df['stage']):\n",
    "    g = Prediction(game_id = match_id, team1 = team1, team2 = team2, goals1 = goals1, goals2 = goals2, user_id = u.user_id, stage = stage)\n",
    "    # print(f'Adding: {g.pred_id}')\n",
    "    db.session.add(g)\n",
    "db.session.commit()\n",
    "try:\n",
    "    db.session.commit()\n",
    "    print('Added predictions successfully.')\n",
    "except:\n",
    "    db.session.rollback()\n",
    "    print(f'Rolled back session')\n",
    "\n",
    "\n",
    "    \n"
   ]
  },
  {
   "cell_type": "code",
   "execution_count": 19,
   "metadata": {},
   "outputs": [
    {
     "name": "stdout",
     "output_type": "stream",
     "text": [
      "deleted requested table\n"
     ]
    }
   ],
   "source": [
    "def reset_table(Table):\n",
    "    for item in Table.query.all():\n",
    "        db.session.delete(item)\n",
    "        \n",
    "    db.session.commit()\n",
    "    print('deleted requested table')\n",
    "\n",
    "reset_table(Prediction)"
   ]
  },
  {
   "cell_type": "code",
   "execution_count": 25,
   "metadata": {},
   "outputs": [
    {
     "data": {
      "text/plain": [
       "[<Game 1 Prediction: QAT 3 - 9 ECU, None wins>,\n",
       " <Game 2 Prediction: SEN 10 - 1 NED, None wins>,\n",
       " <Game 3 Prediction: ENG 1 - 3 IRN, None wins>,\n",
       " <Game 4 Prediction: USA 9 - 6 WAL, None wins>,\n",
       " <Game 5 Prediction: FRA 7 - 0 AUS, None wins>,\n",
       " <Game 6 Prediction: DEN 9 - 4 TUN, None wins>,\n",
       " <Game 7 Prediction: MEX 0 - 7 POL, None wins>,\n",
       " <Game 8 Prediction: ARG 4 - 10 KSA, None wins>,\n",
       " <Game 9 Prediction: BEL 5 - 10 CAN, None wins>,\n",
       " <Game 10 Prediction: ESP 1 - 5 CRC, None wins>,\n",
       " <Game 11 Prediction: GER 5 - 3 JPN, None wins>,\n",
       " <Game 12 Prediction: MAR 3 - 9 CRO, None wins>,\n",
       " <Game 13 Prediction: SUI 7 - 6 CMR, None wins>,\n",
       " <Game 14 Prediction: URU 1 - 5 KOR, None wins>,\n",
       " <Game 15 Prediction: POR 3 - 7 GHA, None wins>,\n",
       " <Game 16 Prediction: BRA 4 - 6 SRB, None wins>,\n",
       " <Game 17 Prediction: IRN 2 - 4 WAL, None wins>,\n",
       " <Game 18 Prediction: QAT 9 - 1 SEN, None wins>,\n",
       " <Game 19 Prediction: NED 1 - 10 ECU, None wins>,\n",
       " <Game 20 Prediction: ENG 8 - 6 USA, None wins>,\n",
       " <Game 21 Prediction: TUN 2 - 7 AUS, None wins>,\n",
       " <Game 22 Prediction: POL 8 - 3 KSA, None wins>,\n",
       " <Game 23 Prediction: FRA 3 - 4 DEN, None wins>,\n",
       " <Game 24 Prediction: ARG 10 - 1 MEX, None wins>,\n",
       " <Game 25 Prediction: JPN 10 - 0 CRC, None wins>,\n",
       " <Game 26 Prediction: BEL 3 - 10 MAR, None wins>,\n",
       " <Game 27 Prediction: CRO 6 - 7 CAN, None wins>,\n",
       " <Game 28 Prediction: ESP 5 - 7 GER, None wins>,\n",
       " <Game 29 Prediction: SRB 3 - 9 CMR, None wins>,\n",
       " <Game 30 Prediction: KOR 7 - 5 GHA, None wins>,\n",
       " <Game 31 Prediction: BRA 5 - 9 SUI, None wins>,\n",
       " <Game 32 Prediction: POR 1 - 1 URU, None wins>,\n",
       " <Game 33 Prediction: ENG 9 - 10 WAL, None wins>,\n",
       " <Game 34 Prediction: IRN 0 - 7 USA, None wins>,\n",
       " <Game 35 Prediction: ECU 10 - 1 SEN, None wins>,\n",
       " <Game 36 Prediction: NED 0 - 6 QAT, None wins>,\n",
       " <Game 37 Prediction: DEN 8 - 9 AUS, None wins>,\n",
       " <Game 38 Prediction: TUN 9 - 7 FRA, None wins>,\n",
       " <Game 39 Prediction: POL 5 - 5 ARG, None wins>,\n",
       " <Game 40 Prediction: KSA 2 - 3 MEX, None wins>,\n",
       " <Game 41 Prediction: CRO 2 - 8 BEL, None wins>,\n",
       " <Game 42 Prediction: CAN 2 - 4 MAR, None wins>,\n",
       " <Game 43 Prediction: JPN 8 - 8 ESP, None wins>,\n",
       " <Game 44 Prediction: CRC 5 - 2 GER, None wins>,\n",
       " <Game 45 Prediction: GHA 7 - 9 URU, None wins>,\n",
       " <Game 46 Prediction: KOR 7 - 0 POR, None wins>,\n",
       " <Game 47 Prediction: SRB 5 - 0 SUI, None wins>,\n",
       " <Game 48 Prediction: BRA 6 - 0 CMR, None wins>]"
      ]
     },
     "execution_count": 25,
     "metadata": {},
     "output_type": "execute_result"
    }
   ],
   "source": [
    "Prediction.query.filter_by(user_id = 1).all()#delete()"
   ]
  },
  {
   "cell_type": "code",
   "execution_count": null,
   "metadata": {},
   "outputs": [],
   "source": [
    "db.session.rollback()\n"
   ]
  },
  {
   "cell_type": "code",
   "execution_count": 22,
   "metadata": {},
   "outputs": [
    {
     "data": {
      "text/plain": [
       "True"
      ]
     },
     "execution_count": 22,
     "metadata": {},
     "output_type": "execute_result"
    }
   ],
   "source": [
    "Prediction.query.filter_by(user_id = u.user_id, stage = 'group').first() is None\n"
   ]
  },
  {
   "cell_type": "code",
   "execution_count": null,
   "metadata": {},
   "outputs": [],
   "source": []
  }
 ],
 "metadata": {
  "kernelspec": {
   "display_name": "Python 3.9.10 ('quiniela-LeuR-7Fo')",
   "language": "python",
   "name": "python3"
  },
  "language_info": {
   "codemirror_mode": {
    "name": "ipython",
    "version": 3
   },
   "file_extension": ".py",
   "mimetype": "text/x-python",
   "name": "python",
   "nbconvert_exporter": "python",
   "pygments_lexer": "ipython3",
   "version": "3.9.10"
  },
  "orig_nbformat": 4,
  "vscode": {
   "interpreter": {
    "hash": "db51ccc35aa27cbbff0cc517a7442460fac7dc75ec04cd5e1cc5122219f442ba"
   }
  }
 },
 "nbformat": 4,
 "nbformat_minor": 2
}
