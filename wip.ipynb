{
 "cells": [
  {
   "cell_type": "code",
   "execution_count": null,
   "metadata": {},
   "outputs": [],
   "source": [
    "from app import db\n",
    "from app.models import *\n",
    "import pandas as pd "
   ]
  },
  {
   "cell_type": "code",
   "execution_count": null,
   "metadata": {},
   "outputs": [],
   "source": [
    "u = User(username = 'seb', email = 's@email.com')\n"
   ]
  },
  {
   "cell_type": "code",
   "execution_count": null,
   "metadata": {},
   "outputs": [],
   "source": [
    "p = Prediction(\n",
    "    game_id = 64,\n",
    "    team1 = 'BRA',\n",
    "    team2 = 'POR',\n",
    "    goals1 = 0,\n",
    "    goals2 = 1,\n",
    "    winner = 'BRA',\n",
    "    user_id = 1928\n",
    ")\n",
    "p"
   ]
  },
  {
   "cell_type": "code",
   "execution_count": null,
   "metadata": {},
   "outputs": [],
   "source": [
    "g = Game(\n",
    "    utc_time= '11/28/2022 19:00',\n",
    "    team1 = 'ECU',\n",
    "    team2 = 'QAT',\n",
    "    group = 'A',\n",
    "    location = 'Lusail',\n",
    "    stage = 'group',\n",
    "    cell1 = 'W15',\n",
    "    cell2 = 'V15',\n",
    ")\n",
    "g"
   ]
  },
  {
   "cell_type": "code",
   "execution_count": null,
   "metadata": {},
   "outputs": [],
   "source": [
    "db.session.add(u)\n",
    "db.session.commit()\n"
   ]
  },
  {
   "cell_type": "markdown",
   "metadata": {},
   "source": [
    "# Chapter 5"
   ]
  },
  {
   "cell_type": "code",
   "execution_count": null,
   "metadata": {},
   "outputs": [],
   "source": [
    "from werkzeug.security import generate_password_hash, check_password_hash\n",
    "hash = generate_password_hash('foobar')\n",
    "check_password_hash(hash,'foobar')"
   ]
  },
  {
   "cell_type": "code",
   "execution_count": null,
   "metadata": {},
   "outputs": [],
   "source": [
    "from app.models import *\n",
    "# u = User(username='susan', email='susan@example.com')\n",
    "u.set_password('pswd')\n",
    "u.check_password('pswd')"
   ]
  },
  {
   "cell_type": "markdown",
   "metadata": {},
   "source": [
    "# File Upload"
   ]
  },
  {
   "cell_type": "code",
   "execution_count": null,
   "metadata": {},
   "outputs": [],
   "source": [
    "from app import db\n",
    "from app.models import *\n",
    "import pandas as pd \n",
    "from app.utility_functions import read_group_stage_bracket\n",
    "filename = 'Quiniela Prueba Seb.xlsx'\n",
    "read_group_stage_bracket(filename)\n"
   ]
  },
  {
   "cell_type": "code",
   "execution_count": null,
   "metadata": {},
   "outputs": [],
   "source": [
    "\n",
    "cols = ['match_id', 'team1', 'team2', 'team1_prediction', 'team2_prediction', 'stage']\n",
    "df = pd.read_excel(filename,sheet_name='Resumen', usecols = cols)\n",
    "df = df.loc[df['stage'] == 'group']\n",
    "\n",
    "u = User.query.filter_by(username = 'meme').first()\n",
    "\n",
    "if Prediction.query.filter_by(user_id = u.user_id, stage = 'group').first() is not None:\n",
    "    Prediction.query.filter_by(user_id = u.user_id, stage = 'group').delete()\n",
    "    \n",
    "for match_id, team1, team2, goals1, goals2, stage in zip(df['match_id'], df['team1'], df['team2'], df['team1_prediction'], df['team2_prediction'], df['stage']):\n",
    "    g = Prediction(game_id = match_id, team1 = team1, team2 = team2, goals1 = goals1, goals2 = goals2, user_id = u.user_id, stage = stage)\n",
    "    # print(f'Adding: {g.pred_id}')\n",
    "    db.session.add(g)\n",
    "db.session.commit()\n",
    "try:\n",
    "    db.session.commit()\n",
    "    print('Added predictions successfully.')\n",
    "except:\n",
    "    db.session.rollback()\n",
    "    print(f'Rolled back session')\n",
    "\n",
    "\n",
    "    \n"
   ]
  },
  {
   "cell_type": "code",
   "execution_count": null,
   "metadata": {},
   "outputs": [],
   "source": [
    "from app.models import Goleador\n",
    "def reset_table(Table):\n",
    "    for item in Table.query.all():\n",
    "        db.session.delete(item)\n",
    "        \n",
    "    db.session.commit()\n",
    "    print('deleted requested table')\n",
    "\n",
    "reset_table(Goleador)"
   ]
  },
  {
   "cell_type": "code",
   "execution_count": null,
   "metadata": {},
   "outputs": [],
   "source": []
  },
  {
   "cell_type": "code",
   "execution_count": null,
   "metadata": {},
   "outputs": [],
   "source": [
    "db.session.rollback()\n",
    "\n"
   ]
  },
  {
   "cell_type": "code",
   "execution_count": null,
   "metadata": {},
   "outputs": [],
   "source": [
    "Prediction.query.filter_by(user_id = u.user_id, stage = 'group').first()\n"
   ]
  },
  {
   "cell_type": "code",
   "execution_count": null,
   "metadata": {},
   "outputs": [],
   "source": [
    "Prediction.query.filter_by(user_id = 1).first().team1\n"
   ]
  },
  {
   "cell_type": "code",
   "execution_count": null,
   "metadata": {},
   "outputs": [],
   "source": [
    "from app import db\n",
    "from app.models import *\n",
    "import pandas as pd \n",
    "from app.utility_functions import read_group_stage_bracket\n",
    "filename = 'Quiniela test.xlsx'\n",
    "df = pd.read_excel(filename,sheet_name='Goleador - Top Scorer')\n",
    "goleador = df['Goleador del mundial  / Top Scorer'].values[0]\n",
    "\n",
    "\n"
   ]
  },
  {
   "cell_type": "code",
   "execution_count": null,
   "metadata": {},
   "outputs": [],
   "source": [
    "from app.models import Goleador\n",
    "\n",
    "g = Goleador(prediction = goleador,user_id = 1)\n",
    "g = Goleador(prediction = goleador,user_id = 1)\n",
    "db.session.add(g)\n",
    "db.session.commit()"
   ]
  },
  {
   "cell_type": "code",
   "execution_count": null,
   "metadata": {},
   "outputs": [],
   "source": [
    "from app import db \n",
    "from app.models import Goleador\n",
    "goleador = 'Ronaldo'\n",
    "g = Goleador(prediction = goleador,user_id = 1)\n",
    "db.session.add(g)\n",
    "db.session.commit()"
   ]
  },
  {
   "cell_type": "code",
   "execution_count": null,
   "metadata": {},
   "outputs": [],
   "source": [
    "\n",
    "def read_goleador(xlsx_file):\n",
    "    \n",
    "    USER_ID = 1\n",
    "    \n",
    "    df = pd.read_excel(xlsx_file,sheet_name='Goleador - Top Scorer')\n",
    "    goleador = df['Goleador del mundial  / Top Scorer'].values[0]\n",
    "\n",
    "    # check if goleador is already in db \n",
    "    if Goleador.query.filter_by(user_id = USER_ID).first() is not None:\n",
    "        Goleador.query.filter_by(user_id = USER_ID).delete()\n",
    "    # add goleador to db\n",
    "    g = Goleador(prediction = goleador,user_id = USER_ID)\n",
    "    db.session.add(g)\n",
    "    try:\n",
    "        db.session.commit()\n",
    "        print(f'Added goleador successfully for {USER_ID}')\n",
    "        return 'Added predictions successfully.'\n",
    "    except:\n",
    "        db.session.rollback()\n",
    "        print('Could not add goleador, please try again.')\n",
    "        return 'Could not add predictions, please try again.'\n",
    "    \n",
    "read_goleador('Quiniela test.xlsx')"
   ]
  },
  {
   "cell_type": "code",
   "execution_count": 1,
   "metadata": {},
   "outputs": [],
   "source": [
    "from app.models import Prediction"
   ]
  },
  {
   "cell_type": "code",
   "execution_count": 2,
   "metadata": {},
   "outputs": [
    {
     "data": {
      "text/plain": [
       "<sqlalchemy.orm.attributes.InstrumentedAttribute at 0x10d67ae00>"
      ]
     },
     "execution_count": 2,
     "metadata": {},
     "output_type": "execute_result"
    }
   ],
   "source": [
    "    "
   ]
  },
  {
   "cell_type": "code",
   "execution_count": null,
   "metadata": {},
   "outputs": [],
   "source": []
  }
 ],
 "metadata": {
  "kernelspec": {
   "display_name": "Python 3.9.10 ('quiniela-LeuR-7Fo')",
   "language": "python",
   "name": "python3"
  },
  "language_info": {
   "codemirror_mode": {
    "name": "ipython",
    "version": 3
   },
   "file_extension": ".py",
   "mimetype": "text/x-python",
   "name": "python",
   "nbconvert_exporter": "python",
   "pygments_lexer": "ipython3",
   "version": "3.9.10"
  },
  "orig_nbformat": 4,
  "vscode": {
   "interpreter": {
    "hash": "db51ccc35aa27cbbff0cc517a7442460fac7dc75ec04cd5e1cc5122219f442ba"
   }
  }
 },
 "nbformat": 4,
 "nbformat_minor": 2
}
