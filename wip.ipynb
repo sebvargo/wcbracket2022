{
 "cells": [
  {
   "cell_type": "code",
   "execution_count": null,
   "metadata": {},
   "outputs": [],
   "source": [
    "from app import db\n",
    "from app.models import *\n",
    "import pandas as pd "
   ]
  },
  {
   "cell_type": "code",
   "execution_count": null,
   "metadata": {},
   "outputs": [],
   "source": [
    "u = User(username = 'seb', email = 's@email.com')\n"
   ]
  },
  {
   "cell_type": "code",
   "execution_count": null,
   "metadata": {},
   "outputs": [],
   "source": [
    "p = Prediction(\n",
    "    game_id = 64,\n",
    "    team1 = 'BRA',\n",
    "    team2 = 'POR',\n",
    "    goals1 = 0,\n",
    "    goals2 = 1,\n",
    "    winner = 'BRA',\n",
    "    user_id = 1928\n",
    ")\n",
    "p"
   ]
  },
  {
   "cell_type": "code",
   "execution_count": null,
   "metadata": {},
   "outputs": [],
   "source": [
    "g = Game(\n",
    "    utc_time= '11/28/2022 19:00',\n",
    "    team1 = 'ECU',\n",
    "    team2 = 'QAT',\n",
    "    group = 'A',\n",
    "    location = 'Lusail',\n",
    "    stage = 'group',\n",
    "    cell1 = 'W15',\n",
    "    cell2 = 'V15',\n",
    ")\n",
    "g"
   ]
  },
  {
   "cell_type": "code",
   "execution_count": null,
   "metadata": {},
   "outputs": [],
   "source": [
    "db.session.add(u)\n",
    "db.session.commit()\n"
   ]
  },
  {
   "cell_type": "markdown",
   "metadata": {},
   "source": [
    "# Chapter 5"
   ]
  },
  {
   "cell_type": "code",
   "execution_count": null,
   "metadata": {},
   "outputs": [],
   "source": [
    "from werkzeug.security import generate_password_hash, check_password_hash\n",
    "hash = generate_password_hash('foobar')\n",
    "check_password_hash(hash,'foobar')"
   ]
  },
  {
   "cell_type": "code",
   "execution_count": null,
   "metadata": {},
   "outputs": [],
   "source": [
    "from app.models import *\n",
    "# u = User(username='susan', email='susan@example.com')\n",
    "u.set_password('pswd')\n",
    "u.check_password('pswd')"
   ]
  },
  {
   "cell_type": "markdown",
   "metadata": {},
   "source": [
    "# File Upload"
   ]
  },
  {
   "cell_type": "code",
   "execution_count": null,
   "metadata": {},
   "outputs": [],
   "source": [
    "from app import db\n",
    "from app.models import *\n",
    "import pandas as pd \n",
    "from app.utility_functions import read_group_stage_bracket\n",
    "filename = 'Quiniela Prueba Seb.xlsx'\n",
    "read_group_stage_bracket(filename)\n"
   ]
  },
  {
   "cell_type": "code",
   "execution_count": null,
   "metadata": {},
   "outputs": [],
   "source": [
    "\n",
    "cols = ['match_id', 'team1', 'team2', 'team1_prediction', 'team2_prediction', 'stage']\n",
    "df = pd.read_excel(filename,sheet_name='Resumen', usecols = cols)\n",
    "df = df.loc[df['stage'] == 'group']\n",
    "\n",
    "u = User.query.filter_by(username = 'meme').first()\n",
    "\n",
    "if Prediction.query.filter_by(user_id = u.user_id, stage = 'group').first() is not None:\n",
    "    Prediction.query.filter_by(user_id = u.user_id, stage = 'group').delete()\n",
    "    \n",
    "for match_id, team1, team2, goals1, goals2, stage in zip(df['match_id'], df['team1'], df['team2'], df['team1_prediction'], df['team2_prediction'], df['stage']):\n",
    "    g = Prediction(game_id = match_id, team1 = team1, team2 = team2, goals1 = goals1, goals2 = goals2, user_id = u.user_id, stage = stage)\n",
    "    # print(f'Adding: {g.pred_id}')\n",
    "    db.session.add(g)\n",
    "db.session.commit()\n",
    "try:\n",
    "    db.session.commit()\n",
    "    print('Added predictions successfully.')\n",
    "except:\n",
    "    db.session.rollback()\n",
    "    print(f'Rolled back session')\n",
    "\n",
    "\n",
    "    \n"
   ]
  },
  {
   "cell_type": "code",
   "execution_count": null,
   "metadata": {},
   "outputs": [],
   "source": [
    "from app.models import Goleador\n",
    "def reset_table(Table):\n",
    "    for item in Table.query.all():\n",
    "        db.session.delete(item)\n",
    "        \n",
    "    db.session.commit()\n",
    "    print('deleted requested table')\n",
    "\n",
    "reset_table(Goleador)"
   ]
  },
  {
   "cell_type": "code",
   "execution_count": null,
   "metadata": {},
   "outputs": [],
   "source": []
  },
  {
   "cell_type": "code",
   "execution_count": null,
   "metadata": {},
   "outputs": [],
   "source": [
    "db.session.rollback()\n",
    "\n"
   ]
  },
  {
   "cell_type": "code",
   "execution_count": null,
   "metadata": {},
   "outputs": [],
   "source": [
    "Prediction.query.filter_by(user_id = u.user_id, stage = 'group').first()\n"
   ]
  },
  {
   "cell_type": "code",
   "execution_count": null,
   "metadata": {},
   "outputs": [],
   "source": [
    "Prediction.query.filter_by(user_id = 1).first().team1\n"
   ]
  },
  {
   "cell_type": "code",
   "execution_count": null,
   "metadata": {},
   "outputs": [],
   "source": [
    "from app import db\n",
    "from app.models import *\n",
    "import pandas as pd \n",
    "from app.utility_functions import read_group_stage_bracket\n",
    "filename = 'Quiniela test.xlsx'\n",
    "df = pd.read_excel(filename,sheet_name='Goleador - Top Scorer')\n",
    "goleador = df['Goleador del mundial  / Top Scorer'].values[0]\n",
    "\n",
    "\n"
   ]
  },
  {
   "cell_type": "code",
   "execution_count": null,
   "metadata": {},
   "outputs": [],
   "source": [
    "from app.models import Goleador\n",
    "\n",
    "g = Goleador(prediction = goleador,user_id = 1)\n",
    "g = Goleador(prediction = goleador,user_id = 1)\n",
    "db.session.add(g)\n",
    "db.session.commit()"
   ]
  },
  {
   "cell_type": "code",
   "execution_count": null,
   "metadata": {},
   "outputs": [],
   "source": [
    "from app import db \n",
    "from app.models import Goleador\n",
    "goleador = 'Ronaldo'\n",
    "g = Goleador(prediction = goleador,user_id = 1)\n",
    "db.session.add(g)\n",
    "db.session.commit()"
   ]
  },
  {
   "cell_type": "code",
   "execution_count": null,
   "metadata": {},
   "outputs": [],
   "source": [
    "\n",
    "def read_goleador(xlsx_file):\n",
    "    \n",
    "    USER_ID = 1\n",
    "    \n",
    "    df = pd.read_excel(xlsx_file,sheet_name='Goleador - Top Scorer')\n",
    "    goleador = df['Goleador del mundial  / Top Scorer'].values[0]\n",
    "\n",
    "    # check if goleador is already in db \n",
    "    if Goleador.query.filter_by(user_id = USER_ID).first() is not None:\n",
    "        Goleador.query.filter_by(user_id = USER_ID).delete()\n",
    "    # add goleador to db\n",
    "    g = Goleador(prediction = goleador,user_id = USER_ID)\n",
    "    db.session.add(g)\n",
    "    try:\n",
    "        db.session.commit()\n",
    "        print(f'Added goleador successfully for {USER_ID}')\n",
    "        return 'Added predictions successfully.'\n",
    "    except:\n",
    "        db.session.rollback()\n",
    "        print('Could not add goleador, please try again.')\n",
    "        return 'Could not add predictions, please try again.'\n",
    "    \n",
    "read_goleador('Quiniela test.xlsx')"
   ]
  },
  {
   "cell_type": "code",
   "execution_count": 1,
   "metadata": {},
   "outputs": [
    {
     "data": {
      "text/html": [
       "<div>\n",
       "<style scoped>\n",
       "    .dataframe tbody tr th:only-of-type {\n",
       "        vertical-align: middle;\n",
       "    }\n",
       "\n",
       "    .dataframe tbody tr th {\n",
       "        vertical-align: top;\n",
       "    }\n",
       "\n",
       "    .dataframe thead th {\n",
       "        text-align: right;\n",
       "    }\n",
       "</style>\n",
       "<table border=\"1\" class=\"dataframe\">\n",
       "  <thead>\n",
       "    <tr style=\"text-align: right;\">\n",
       "      <th></th>\n",
       "      <th>match_id</th>\n",
       "      <th>date</th>\n",
       "      <th>team1</th>\n",
       "      <th>team2</th>\n",
       "      <th>group</th>\n",
       "      <th>time</th>\n",
       "      <th>location</th>\n",
       "      <th>stage</th>\n",
       "      <th>fixture_cell1</th>\n",
       "      <th>fixture_cell2</th>\n",
       "      <th>team1_prediction</th>\n",
       "      <th>team2_prediction</th>\n",
       "    </tr>\n",
       "  </thead>\n",
       "  <tbody>\n",
       "    <tr>\n",
       "      <th>13</th>\n",
       "      <td>14</td>\n",
       "      <td>2022-11-24</td>\n",
       "      <td>URU</td>\n",
       "      <td>KOR</td>\n",
       "      <td>H</td>\n",
       "      <td>16:00:00</td>\n",
       "      <td>Education City Stadium</td>\n",
       "      <td>group</td>\n",
       "      <td>X18</td>\n",
       "      <td>Z18</td>\n",
       "      <td>4.0</td>\n",
       "      <td>0.0</td>\n",
       "    </tr>\n",
       "    <tr>\n",
       "      <th>14</th>\n",
       "      <td>15</td>\n",
       "      <td>2022-11-24</td>\n",
       "      <td>POR</td>\n",
       "      <td>GHA</td>\n",
       "      <td>H</td>\n",
       "      <td>19:00:00</td>\n",
       "      <td>Stadium 974</td>\n",
       "      <td>group</td>\n",
       "      <td>X20</td>\n",
       "      <td>Z20</td>\n",
       "      <td>5.0</td>\n",
       "      <td>3.0</td>\n",
       "    </tr>\n",
       "    <tr>\n",
       "      <th>29</th>\n",
       "      <td>30</td>\n",
       "      <td>2022-11-28</td>\n",
       "      <td>KOR</td>\n",
       "      <td>GHA</td>\n",
       "      <td>H</td>\n",
       "      <td>16:00:00</td>\n",
       "      <td>Education City Stadium</td>\n",
       "      <td>group</td>\n",
       "      <td>X22</td>\n",
       "      <td>Z22</td>\n",
       "      <td>4.0</td>\n",
       "      <td>2.0</td>\n",
       "    </tr>\n",
       "    <tr>\n",
       "      <th>31</th>\n",
       "      <td>32</td>\n",
       "      <td>2022-11-28</td>\n",
       "      <td>POR</td>\n",
       "      <td>URU</td>\n",
       "      <td>H</td>\n",
       "      <td>22:00:00</td>\n",
       "      <td>Lusail Stadium</td>\n",
       "      <td>group</td>\n",
       "      <td>X24</td>\n",
       "      <td>Z24</td>\n",
       "      <td>3.0</td>\n",
       "      <td>5.0</td>\n",
       "    </tr>\n",
       "    <tr>\n",
       "      <th>44</th>\n",
       "      <td>45</td>\n",
       "      <td>2022-12-02</td>\n",
       "      <td>GHA</td>\n",
       "      <td>URU</td>\n",
       "      <td>H</td>\n",
       "      <td>18:00:00</td>\n",
       "      <td>Al Janoub Stadium</td>\n",
       "      <td>group</td>\n",
       "      <td>X28</td>\n",
       "      <td>Z28</td>\n",
       "      <td>0.0</td>\n",
       "      <td>5.0</td>\n",
       "    </tr>\n",
       "    <tr>\n",
       "      <th>45</th>\n",
       "      <td>46</td>\n",
       "      <td>2022-12-02</td>\n",
       "      <td>KOR</td>\n",
       "      <td>POR</td>\n",
       "      <td>H</td>\n",
       "      <td>18:00:00</td>\n",
       "      <td>Education City Stadium</td>\n",
       "      <td>group</td>\n",
       "      <td>X26</td>\n",
       "      <td>Z26</td>\n",
       "      <td>0.0</td>\n",
       "      <td>1.0</td>\n",
       "    </tr>\n",
       "  </tbody>\n",
       "</table>\n",
       "</div>"
      ],
      "text/plain": [
       "    match_id       date team1 team2 group      time                location  \\\n",
       "13        14 2022-11-24   URU   KOR     H  16:00:00  Education City Stadium   \n",
       "14        15 2022-11-24   POR   GHA     H  19:00:00             Stadium 974   \n",
       "29        30 2022-11-28   KOR   GHA     H  16:00:00  Education City Stadium   \n",
       "31        32 2022-11-28   POR   URU     H  22:00:00          Lusail Stadium   \n",
       "44        45 2022-12-02   GHA   URU     H  18:00:00       Al Janoub Stadium   \n",
       "45        46 2022-12-02   KOR   POR     H  18:00:00  Education City Stadium   \n",
       "\n",
       "    stage fixture_cell1 fixture_cell2  team1_prediction  team2_prediction  \n",
       "13  group           X18           Z18               4.0               0.0  \n",
       "14  group           X20           Z20               5.0               3.0  \n",
       "29  group           X22           Z22               4.0               2.0  \n",
       "31  group           X24           Z24               3.0               5.0  \n",
       "44  group           X28           Z28               0.0               5.0  \n",
       "45  group           X26           Z26               0.0               1.0  "
      ]
     },
     "execution_count": 1,
     "metadata": {},
     "output_type": "execute_result"
    }
   ],
   "source": [
    "from app import app, db\n",
    "from app.models import *\n",
    "import pandas as pd\n",
    "from app.utility_functions import GROUPS, GAMES_IN_GROUP\n",
    "\n",
    "df = pd.read_excel('Quiniela test.xlsx',sheet_name='Resumen')\n",
    "df.loc[df['group'] == 'H']"
   ]
  },
  {
   "cell_type": "code",
   "execution_count": 2,
   "metadata": {},
   "outputs": [
    {
     "data": {
      "text/plain": [
       "<sqlalchemy.orm.attributes.InstrumentedAttribute at 0x10d67ae00>"
      ]
     },
     "execution_count": 2,
     "metadata": {},
     "output_type": "execute_result"
    }
   ],
   "source": []
  },
  {
   "cell_type": "code",
   "execution_count": 2,
   "metadata": {},
   "outputs": [
    {
     "data": {
      "text/plain": [
       "{'A': [1, 2, 18, 19, 35, 36],\n",
       " 'B': [3, 4, 17, 20, 33, 34],\n",
       " 'C': [7, 8, 22, 24, 39, 40],\n",
       " 'D': [5, 6, 21, 23, 37, 38],\n",
       " 'E': [10, 11, 25, 28, 43, 44],\n",
       " 'F': [9, 12, 26, 27, 41, 42],\n",
       " 'G': [13, 16, 29, 31, 47, 48],\n",
       " 'H': [14, 15, 30, 32, 45, 46]}"
      ]
     },
     "execution_count": 2,
     "metadata": {},
     "output_type": "execute_result"
    }
   ],
   "source": [
    "GAMES_IN_GROUP"
   ]
  },
  {
   "cell_type": "code",
   "execution_count": null,
   "metadata": {},
   "outputs": [],
   "source": []
  }
 ],
 "metadata": {
  "kernelspec": {
   "display_name": "Python 3.9.10 ('quiniela-LeuR-7Fo')",
   "language": "python",
   "name": "python3"
  },
  "language_info": {
   "codemirror_mode": {
    "name": "ipython",
    "version": 3
   },
   "file_extension": ".py",
   "mimetype": "text/x-python",
   "name": "python",
   "nbconvert_exporter": "python",
   "pygments_lexer": "ipython3",
   "version": "3.9.10"
  },
  "orig_nbformat": 4,
  "vscode": {
   "interpreter": {
    "hash": "db51ccc35aa27cbbff0cc517a7442460fac7dc75ec04cd5e1cc5122219f442ba"
   }
  }
 },
 "nbformat": 4,
 "nbformat_minor": 2
}
