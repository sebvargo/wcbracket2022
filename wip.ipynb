{
 "cells": [
  {
   "cell_type": "code",
   "execution_count": null,
   "metadata": {},
   "outputs": [],
   "source": [
    "from app import db\n",
    "from app.models import *\n",
    "import pandas as pd "
   ]
  },
  {
   "cell_type": "code",
   "execution_count": null,
   "metadata": {},
   "outputs": [],
   "source": [
    "u = User(username = 'seb', email = 's@email.com')\n"
   ]
  },
  {
   "cell_type": "code",
   "execution_count": null,
   "metadata": {},
   "outputs": [],
   "source": [
    "p = Prediction(\n",
    "    game_id = 64,\n",
    "    team1 = 'BRA',\n",
    "    team2 = 'POR',\n",
    "    goals1 = 0,\n",
    "    goals2 = 1,\n",
    "    winner = 'BRA',\n",
    "    user_id = 1928\n",
    ")\n",
    "p"
   ]
  },
  {
   "cell_type": "code",
   "execution_count": null,
   "metadata": {},
   "outputs": [],
   "source": [
    "g = Game(\n",
    "    utc_time= '11/28/2022 19:00',\n",
    "    team1 = 'ECU',\n",
    "    team2 = 'QAT',\n",
    "    group = 'A',\n",
    "    location = 'Lusail',\n",
    "    stage = 'group',\n",
    "    cell1 = 'W15',\n",
    "    cell2 = 'V15',\n",
    ")\n",
    "g"
   ]
  },
  {
   "cell_type": "code",
   "execution_count": null,
   "metadata": {},
   "outputs": [],
   "source": [
    "db.session.add(u)\n",
    "db.session.commit()\n"
   ]
  },
  {
   "cell_type": "markdown",
   "metadata": {},
   "source": [
    "# Chapter 5"
   ]
  },
  {
   "cell_type": "code",
   "execution_count": null,
   "metadata": {},
   "outputs": [],
   "source": [
    "from werkzeug.security import generate_password_hash, check_password_hash\n",
    "hash = generate_password_hash('foobar')\n",
    "check_password_hash(hash,'foobar')"
   ]
  },
  {
   "cell_type": "code",
   "execution_count": null,
   "metadata": {},
   "outputs": [],
   "source": [
    "from app.models import *\n",
    "# u = User(username='susan', email='susan@example.com')\n",
    "u.set_password('pswd')\n",
    "u.check_password('pswd')"
   ]
  },
  {
   "cell_type": "markdown",
   "metadata": {},
   "source": [
    "# File Upload"
   ]
  },
  {
   "cell_type": "code",
   "execution_count": null,
   "metadata": {},
   "outputs": [],
   "source": [
    "filename = 'Quiniela 2022.xlsx'\n",
    "u = User.query.filter_by(username = 'admin').first()\n",
    "cols = ['match_id', 'team1', 'team2', 'team1_prediction', 'team2_prediction']\n",
    "df = pd.read_excel(filename,sheet_name='Grupos', usecols = cols)\n",
    "for match_id, team1, team2, goals1, goals2, in zip(df['match_id'], df['team1'], df['team2'], df['team1_prediction'], df['team2_prediction']):\n",
    "    g = Prediction(pred_id = f'{u.user_id}-{match_id}', game_id = match_id, team1 = team1, team2 = team2, goals1 = goals1, goals2 = goals2)\n",
    "    # print(f'Adding: {g.pred_id}')\n",
    "    db.session.add(g)\n",
    "db.session.commit()\n"
   ]
  },
  {
   "cell_type": "code",
   "execution_count": null,
   "metadata": {},
   "outputs": [],
   "source": [
    "p = Prediction(\n",
    "    game_id = g.match_id,\n",
    "    team1 = g.team1,\n",
    "    team2 = g.team2,\n",
    "    goals1 = g.team1_prediction,\n",
    "    goals2 = g.team2_prediction,\n",
    "    # winner = db.Column(db.Integer),\n",
    "    user_id = 3,\n",
    "    )\n",
    "print(p)\n",
    "\n"
   ]
  },
  {
   "cell_type": "code",
   "execution_count": null,
   "metadata": {},
   "outputs": [],
   "source": [
    "Prediction.query.all()"
   ]
  },
  {
   "cell_type": "code",
   "execution_count": null,
   "metadata": {},
   "outputs": [],
   "source": [
    "\n"
   ]
  },
  {
   "cell_type": "code",
   "execution_count": null,
   "metadata": {},
   "outputs": [],
   "source": []
  }
 ],
 "metadata": {
  "kernelspec": {
   "display_name": "Python 3.9.10 ('quiniela-LeuR-7Fo')",
   "language": "python",
   "name": "python3"
  },
  "language_info": {
   "codemirror_mode": {
    "name": "ipython",
    "version": 3
   },
   "file_extension": ".py",
   "mimetype": "text/x-python",
   "name": "python",
   "nbconvert_exporter": "python",
   "pygments_lexer": "ipython3",
   "version": "3.9.10"
  },
  "orig_nbformat": 4,
  "vscode": {
   "interpreter": {
    "hash": "db51ccc35aa27cbbff0cc517a7442460fac7dc75ec04cd5e1cc5122219f442ba"
   }
  }
 },
 "nbformat": 4,
 "nbformat_minor": 2
}
