{
 "cells": [
  {
   "cell_type": "code",
   "execution_count": null,
   "metadata": {},
   "outputs": [],
   "source": [
    "from app import db\n",
    "from app.models import *\n",
    "import pandas as pd "
   ]
  },
  {
   "cell_type": "code",
   "execution_count": null,
   "metadata": {},
   "outputs": [],
   "source": [
    "u = User(username = 'seb', email = 's@email.com')\n"
   ]
  },
  {
   "cell_type": "code",
   "execution_count": null,
   "metadata": {},
   "outputs": [],
   "source": [
    "p = Prediction(\n",
    "    game_id = 64,\n",
    "    team1 = 'BRA',\n",
    "    team2 = 'POR',\n",
    "    goals1 = 0,\n",
    "    goals2 = 1,\n",
    "    winner = 'BRA',\n",
    "    user_id = 1928\n",
    ")\n",
    "p"
   ]
  },
  {
   "cell_type": "code",
   "execution_count": null,
   "metadata": {},
   "outputs": [],
   "source": [
    "g = Game(\n",
    "    utc_time= '11/28/2022 19:00',\n",
    "    team1 = 'ECU',\n",
    "    team2 = 'QAT',\n",
    "    group = 'A',\n",
    "    location = 'Lusail',\n",
    "    stage = 'group',\n",
    "    cell1 = 'W15',\n",
    "    cell2 = 'V15',\n",
    ")\n",
    "g"
   ]
  },
  {
   "cell_type": "code",
   "execution_count": null,
   "metadata": {},
   "outputs": [],
   "source": [
    "db.session.add(u)\n",
    "db.session.commit()\n"
   ]
  },
  {
   "cell_type": "markdown",
   "metadata": {},
   "source": [
    "# Chapter 5"
   ]
  },
  {
   "cell_type": "code",
   "execution_count": null,
   "metadata": {},
   "outputs": [],
   "source": [
    "from werkzeug.security import generate_password_hash, check_password_hash\n",
    "hash = generate_password_hash('foobar')\n",
    "check_password_hash(hash,'foobar')"
   ]
  },
  {
   "cell_type": "code",
   "execution_count": null,
   "metadata": {},
   "outputs": [],
   "source": [
    "from app.models import *\n",
    "# u = User(username='susan', email='susan@example.com')\n",
    "u.set_password('pswd')\n",
    "u.check_password('pswd')"
   ]
  },
  {
   "cell_type": "markdown",
   "metadata": {},
   "source": [
    "# File Upload"
   ]
  },
  {
   "cell_type": "code",
   "execution_count": 21,
   "metadata": {},
   "outputs": [
    {
     "data": {
      "text/plain": [
       "'Added predictions successfully.'"
      ]
     },
     "execution_count": 21,
     "metadata": {},
     "output_type": "execute_result"
    }
   ],
   "source": [
    "from app import db\n",
    "from app.models import *\n",
    "import pandas as pd \n",
    "from app.utility_functions import read_group_stage_bracket\n",
    "filename = 'Quiniela Prueba Seb.xlsx'\n",
    "read_group_stage_bracket(filename)\n"
   ]
  },
  {
   "cell_type": "code",
   "execution_count": 23,
   "metadata": {},
   "outputs": [
    {
     "name": "stdout",
     "output_type": "stream",
     "text": [
      "Added predictions successfully.\n"
     ]
    }
   ],
   "source": [
    "\n",
    "cols = ['match_id', 'team1', 'team2', 'team1_prediction', 'team2_prediction', 'stage']\n",
    "df = pd.read_excel(filename,sheet_name='Resumen', usecols = cols)\n",
    "df = df.loc[df['stage'] == 'group']\n",
    "\n",
    "u = User.query.filter_by(username = 'meme').first()\n",
    "\n",
    "if Prediction.query.filter_by(user_id = u.user_id, stage = 'group').first() is not None:\n",
    "    Prediction.query.filter_by(user_id = u.user_id, stage = 'group').delete()\n",
    "    \n",
    "for match_id, team1, team2, goals1, goals2, stage in zip(df['match_id'], df['team1'], df['team2'], df['team1_prediction'], df['team2_prediction'], df['stage']):\n",
    "    g = Prediction(game_id = match_id, team1 = team1, team2 = team2, goals1 = goals1, goals2 = goals2, user_id = u.user_id, stage = stage)\n",
    "    # print(f'Adding: {g.pred_id}')\n",
    "    db.session.add(g)\n",
    "db.session.commit()\n",
    "try:\n",
    "    db.session.commit()\n",
    "    print('Added predictions successfully.')\n",
    "except:\n",
    "    db.session.rollback()\n",
    "    print(f'Rolled back session')\n",
    "\n",
    "\n",
    "    \n"
   ]
  },
  {
   "cell_type": "code",
   "execution_count": 2,
   "metadata": {},
   "outputs": [
    {
     "name": "stdout",
     "output_type": "stream",
     "text": [
      "deleted requested table\n"
     ]
    }
   ],
   "source": [
    "def reset_table(Table):\n",
    "    for item in Table.query.all():\n",
    "        db.session.delete(item)\n",
    "        \n",
    "    db.session.commit()\n",
    "    print('deleted requested table')\n",
    "\n",
    "reset_table(Prediction)"
   ]
  },
  {
   "cell_type": "code",
   "execution_count": 26,
   "metadata": {},
   "outputs": [
    {
     "data": {
      "text/plain": [
       "[]"
      ]
     },
     "execution_count": 26,
     "metadata": {},
     "output_type": "execute_result"
    }
   ],
   "source": [
    "Prediction.query.filter_by(user_id = 2).all()#delete()"
   ]
  },
  {
   "cell_type": "code",
   "execution_count": null,
   "metadata": {},
   "outputs": [],
   "source": []
  },
  {
   "cell_type": "code",
   "execution_count": 20,
   "metadata": {},
   "outputs": [],
   "source": [
    "db.session.rollback()\n",
    "\n"
   ]
  },
  {
   "cell_type": "code",
   "execution_count": 22,
   "metadata": {},
   "outputs": [
    {
     "data": {
      "text/plain": [
       "<Game 1 Prediction: QAT 10 - 1 ECU, None wins>"
      ]
     },
     "execution_count": 22,
     "metadata": {},
     "output_type": "execute_result"
    }
   ],
   "source": [
    "Prediction.query.filter_by(user_id = u.user_id, stage = 'group').first()\n"
   ]
  },
  {
   "cell_type": "code",
   "execution_count": 18,
   "metadata": {},
   "outputs": [
    {
     "data": {
      "text/plain": [
       "'QAT'"
      ]
     },
     "execution_count": 18,
     "metadata": {},
     "output_type": "execute_result"
    }
   ],
   "source": [
    "Prediction.query.filter_by(user_id = 1).first().team1\n"
   ]
  },
  {
   "cell_type": "code",
   "execution_count": 25,
   "metadata": {},
   "outputs": [
    {
     "name": "stdout",
     "output_type": "stream",
     "text": [
      "1 meme\n",
      "2 sebvargas\n"
     ]
    }
   ],
   "source": [
    "for u in User.query.all():\n",
    "    print(u.user_id, u.username)"
   ]
  },
  {
   "cell_type": "code",
   "execution_count": null,
   "metadata": {},
   "outputs": [],
   "source": []
  }
 ],
 "metadata": {
  "kernelspec": {
   "display_name": "Python 3.9.10 ('quiniela-LeuR-7Fo')",
   "language": "python",
   "name": "python3"
  },
  "language_info": {
   "codemirror_mode": {
    "name": "ipython",
    "version": 3
   },
   "file_extension": ".py",
   "mimetype": "text/x-python",
   "name": "python",
   "nbconvert_exporter": "python",
   "pygments_lexer": "ipython3",
   "version": "3.9.10"
  },
  "orig_nbformat": 4,
  "vscode": {
   "interpreter": {
    "hash": "db51ccc35aa27cbbff0cc517a7442460fac7dc75ec04cd5e1cc5122219f442ba"
   }
  }
 },
 "nbformat": 4,
 "nbformat_minor": 2
}
