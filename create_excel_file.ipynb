{
 "cells": [
  {
   "cell_type": "code",
   "execution_count": null,
   "metadata": {},
   "outputs": [],
   "source": [
    "from app.models import User, Prediction\n",
    "import pandas as pd\n",
    "\n",
    "preds = []\n",
    "goleador = []\n",
    "stages = []\n",
    "for user in User.query.all():\n",
    "    \n",
    "    goleador.append([user.user_id, user.username, user.goleador.first()])\n",
    "     \n",
    "    for p in user.predictions:\n",
    "        ls = [user.user_id, user.username, p.game_id, p.team1, p.goals1, p.goals2, p.team2]\n",
    "        preds.append(ls)\n",
    "    \n",
    "    for s in user.stages:\n",
    "        ls = [user.user_id, user.username, s.name, s.winner, s.runner_up]\n",
    "        stages.append(ls)\n",
    "     \n",
    "\n",
    "gol_df = pd.DataFrame(goleador, columns=['user_id', 'username', 'goleador'])\n",
    "resultados_df = pd.DataFrame(preds, columns=['user_id', 'username', 'game_id', 'team1', 'team1_goals', 'team2_goals', 'team2'])\n",
    "stages_df = pd.DataFrame(stages, columns=['user_id', 'username', 'group_name', '1ero', '2ndo'])\n",
    "\n",
    "writer = pd.ExcelWriter('quinielas.xlsx', engine='xlsxwriter')\n",
    "resultados_df.to_excel(writer, sheet_name='Results')\n",
    "stages_df.to_excel(writer, sheet_name='Grupos')\n",
    "gol_df.to_excel(writer, sheet_name='Goleador')\n",
    "writer.save()"
   ]
  }
 ],
 "metadata": {
  "kernelspec": {
   "display_name": "Python 3.9.10 ('quiniela-LeuR-7Fo')",
   "language": "python",
   "name": "python3"
  },
  "language_info": {
   "name": "python",
   "version": "3.9.10"
  },
  "orig_nbformat": 4,
  "vscode": {
   "interpreter": {
    "hash": "db51ccc35aa27cbbff0cc517a7442460fac7dc75ec04cd5e1cc5122219f442ba"
   }
  }
 },
 "nbformat": 4,
 "nbformat_minor": 2
}
